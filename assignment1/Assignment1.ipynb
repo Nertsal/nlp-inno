{
  "cells": [
    {
      "cell_type": "markdown",
      "metadata": {
        "id": "RKboZnAdgrRM"
      },
      "source": [
        "# [NLP] Assignment 1: Tokenization\n",
        "\n",
        "In this assignment, you need to tokenize the text of the Twitter(X) users posts(tweets). The assignment consists of two tasks. When you finish all the tasks, create a GitHub repository for this assignment (you can use this repo later for the other assignments) and submit this notebook in the repository. Leave `requirements.txt` file if your code requires additional installations. Submit the link to the repository in Moodle.\n",
        "\n",
        "The [data](https://drive.google.com/file/d/15x_wPAflvYQ2Xh38iNQGrqUIWLj5l5Nw/view?usp=share_link) contains 5 files whereby each contains 44 tweets. Each tweet is separated by a newline."
      ]
    },
    {
      "cell_type": "markdown",
      "metadata": {
        "id": "aLDjjAvemUP_"
      },
      "source": [
        "## Task 1. Tokenize some tweets manually (20 points)\n",
        "\n",
        "As a first task you need to tokenize first 15 tweets from `file2` by hand. This will allow you to understand the problem from a linguistic point of view. The guidelines for tweet tokenization are as follows:\n",
        "\n",
        "- Each smiley is a separate token\n",
        "- Each hashtag is an individual token. Each user reference is an individual token\n",
        "- If a word has spaces between them then it is converted to a single token\n",
        "- All punctuations are individual tokens. This includes double-quotes and single quotes also\n",
        "- A URL is a single token\n",
        "\n",
        "Example of output\n",
        "\n",
        "    Input tweet\n",
        "    @xfranman Old age has made N A T O!\n",
        "\n",
        "    Tokenized tweet (separated by comma)\n",
        "    @xfranman , Old , age , has , made , NATO , !"
      ]
    },
    {
      "cell_type": "markdown",
      "metadata": {
        "id": "7KKKwTidnzUw"
      },
      "source": [
        "\n",
        "    1. Input tweet\n",
        "    Camping in Maine for the weekend. Hey Dad, Mama Loves YOU: http://www.mamapalooza.com\n",
        "    1. Tokenized tweet\n",
        "    Camping , in , Maine , for , the , weekend , . , Hey , Dad , , , Mama , Loves , YOU , : , http://www.mamapalooza.com\n",
        "\n",
        "    2. Input tweet\n",
        "    Its american tradition bitch\n",
        "    2. Tokenized tweet\n",
        "    Its , american , tradition , bitch\n",
        "\n",
        "    3. Input tweet\n",
        "    @ThroughTheVoid They love it! The only pleasure they get in life. I actually do that. I'm sure I hear a tiny squeak... Then louder ones\n",
        "    3. Tokenized tweet\n",
        "    @ThroughTheVoid , They , love , it , ! , The , only , pleasure , they , get , in , life , . , I , actually , do , that , . , I , 'm , sure , I , hear , a , tiny , squeak , ... , Then , louder , ones\n",
        "\n",
        "    4. Input tweet\n",
        "    \" RT @latti: @AbsoHilare stop tweeting in church! Lol <--- \"\"I tweet because I'm happy, I tweet because I'm free\"\" LOL!\"\n",
        "    4. Tokenized tweet\n",
        "    \" , RT , @latti , : , @AbsoHilare , stop , tweeting , in , church , ! , Lol , <--- , \"\" , I , tweet , because , I , 'm , happy , , , I , tweet , because , I , 'm , free , \"\" , LOL , ! , \"\n",
        "    \n",
        "    5. Input tweet\n",
        "    Samsung Mini S2 portable HDD graced with colors that perfectly match your tacky beach gear: Sammy's done it aga.. http://tinyurl.com/lb5p6m\n",
        "    5. Tokenized tweet\n",
        "    Samsung , Mini , S2 , portable , HDD , graced , with , colors , that , perfectly , match , your , tacky , beach , gear , : , Sammy , 's , done , it , aga , .. , http://tinyurl.com/lb5p6m\n",
        "    \n",
        "    6. Input tweet\n",
        "    @dialloc congrats on finding your way over. it may be slow going at first. hang in there. it's kinda cool when u get up to speed.\n",
        "    6. Tokenized tweet\n",
        "    @dialloc , congrats , on , finding , your , way , over , . , it , may , be , slow , going , at , first , . , hang , in , there , . , it , 's , kinda , cool , when , u , get , up , to , speed , .\n",
        "    \n",
        "    7. Input tweet\n",
        "    iPhone activation delays continue, Apple offers $30 http://twt.gs/l3Ki\n",
        "    7. Tokenized tweet\n",
        "    iPhone , activation , delays , continue , , , Apple , offers , $ , 30 , http://twt.gs/l3Ki\n",
        "    \n",
        "    8. Input tweet\n",
        "    RT @GoogleAtWork Gmail maximum attachment size now 25MB http://bit.ly/62mjw Nice!!!\n",
        "    8. Tokenized tweet\n",
        "    RT , @GoogleAtWork , Gmail , maximum , attachment , size , now , 25 , MB , http://bit.ly/62mjw , Nice , ! , ! , !\n",
        "    \n",
        "    9. Input tweet\n",
        "    RT @acfou The Ads Won Awards for Crispin; But Did Nothing for Client BurgerKing's Sales/Marketshare - Big Surprise - http://ping.fm/vw8TI\n",
        "    9. Tokenized tweet\n",
        "    RT , @acfou , The , Ads , Won , Awards , for , Crispin , ; , But , Did , Nothing , for , Client , BurgerKing , 's , Sales , / , Marketshare , - , Big , Surprise , - , http://ping.fm/vw8TI\n",
        "    \n",
        "    10. Input tweet\n",
        "    Hey doll! Great I missed True Blood yday boo lol Rt @FrankBanuat78 @jhillstephens Hello Sunshine how are u today? :-)\n",
        "    10. Tokenized tweet\n",
        "    Hey , doll , ! , Great , I , missed , True , Blood , yday , boo , lol , Rt , @FrankBanuat78 , @jhillstephens , Hello , Sunshine , how , are , u , today , ? , :-)\n",
        "    \n",
        "    11. Input tweet\n",
        "    Australian artist Pogo made these free songs primarily from sampled audio from Alice In Wonderland. http://www.last.fm/music/Pogo/Wonderland\n",
        "    11. Tokenized tweet\n",
        "    Australian , artist , Pogo , made , these , free , songs , primarily , from , sampled , audio , from , Alice , In , Wonderland , . , http://www.last.fm/music/Pogo/Wonderland\n",
        "    \n",
        "    12. Input tweet\n",
        "    @mppritchard they wanted to sell all the preorders & then sell all of the ones they had in stock to those that just walked in. Can't do both\n",
        "    12. Tokenized tweet\n",
        "    @mppritchard , they , wanted , to , sell , all , the , preorders , & , then , sell , all , of , the , ones , they , had , in , stock , to , those , that , just , walked , in , . , Can , 't , do , both\n",
        "    \n",
        "    13. Input tweet\n",
        "    Incoming: Frightened Rabbit, Sept. 22 (Tucson): If Fat Cat Records is going to send three great bands from Scot.. http://tinyurl.com/nz6xcv\n",
        "    13. Tokenized tweet\n",
        "    Incoming , : , Frightened , Rabbit , , , Sept , . , 22 , ( , Tucson , ) , : , If , Fat , Cat , Records , is , going , to , send , three , great , bands , from , Scot , .. , http://tinyurl.com/nz6xcv\n",
        "    \n",
        "    14. Input tweet\n",
        "    Hey @ginoandfran please greet philip! (GinoandFran live > http://ustre.am/2YyQ)\n",
        "    14. Tokenized tweet\n",
        "    Hey , @ginoandfran , please , greet , philip , ! , ( , GinoandFran , live , > , http://ustre.am/2YyQ , )\n",
        "    \n",
        "    15. Input tweet\n",
        "    Ik weet niet wie er achter de T-Mobile iPhone Twitter zit maar ik vind het niet echt 'corporate' taalgebruik... Best vreemd eigenlijk\n",
        "    15. Tokenized tweet\n",
        "    Ik , weet , niet , wie , er , achter , de , T-Mobile , iPhone , Twitter , zit , maar , ik , vind , het , niet , echt , ' , corporate , ' , taalgebruik , ... , Best , vreemd , eigenlijk"
      ]
    },
    {
      "cell_type": "markdown",
      "metadata": {
        "id": "-2J2AD2nmUhi"
      },
      "source": [
        "## Task 2. Implement [Byte-Pair Encoding(BPE)](https://arxiv.org/pdf/1508.07909.pdf) Tokenizer (80 points)\n",
        "\n",
        "### Task 2.1. Implementation (60 points)\n",
        "\n",
        "Implement the tokenizer as the BPETokenizer class:\n",
        "* Implement `train` method that learns merges and builds the vocabulary of the specified `vocab_size` (25 points).\n",
        "* Implement `tokenize` method that should tokenize the text according to the learnt merges (25 points).\n",
        "\n",
        "Your code should have docstrings and comments (10 points)."
      ]
    },
    {
      "cell_type": "code",
      "execution_count": 68,
      "metadata": {},
      "outputs": [],
      "source": [
        "import re, collections\n",
        "from typing import List\n",
        "\n",
        "class BPETokenizer:\n",
        "    def __init__(self, vocab_size: int) -> None:\n",
        "        self.vocab_size = vocab_size\n",
        "        self.vocab = {}\n",
        "        self.merges = []\n",
        "\n",
        "    def calc_vocab_size(self) -> int:\n",
        "        words = set()\n",
        "        for word, freq in self.vocab.items():\n",
        "            for s in word.split():\n",
        "                words.add(s)\n",
        "        return len(words)\n",
        "\n",
        "    def get_stats(self) -> dict[str, int]:\n",
        "        pairs = collections.defaultdict(int)\n",
        "        for word, freq in self.vocab.items():\n",
        "            symbols = word.split()\n",
        "            for i in range(len(symbols) - 1):\n",
        "                pairs[symbols[i], symbols[i + 1]] += freq\n",
        "        return pairs\n",
        "    \n",
        "    def merge_vocab(self, pair):\n",
        "        v_out = {}\n",
        "        bigram = re.escape(' '.join(pair))\n",
        "        p = re.compile(r'(?<!\\S)' + bigram + r'(?!\\S)')\n",
        "        for word in self.vocab:\n",
        "            w_out = p.sub(''.join(pair), word)\n",
        "            v_out[w_out] = self.vocab[word]\n",
        "        self.vocab = v_out\n",
        "        self.merges.append(pair)\n",
        "\n",
        "    def train(self, corpus: List[str]) -> None:\n",
        "        \"\"\"Learn how to merge text based on the provided corpus\"\"\"\n",
        "        # Initialize the vocabulary with all the symbols\n",
        "        self.vocab = {}\n",
        "        for line in corpus:\n",
        "            for word in line.split():\n",
        "                key = \"\"\n",
        "                for symbol in word:\n",
        "                    key += symbol\n",
        "                    key += ' '\n",
        "                key += '</w>'\n",
        "                if key not in self.vocab:\n",
        "                    self.vocab[key] = 1\n",
        "                else:\n",
        "                    self.vocab[key] += 1\n",
        "\n",
        "        # Make merges until the vocabulary is large enough\n",
        "        while self.calc_vocab_size() < self.vocab_size:\n",
        "            pairs = self.get_stats()\n",
        "            best = max(pairs, key=pairs.get)\n",
        "            self.merge_vocab(best)\n",
        "\n",
        "    def tokenize(self, text: str) -> List[str]:\n",
        "        \"\"\"Tokenize the text according to the trained merges\"\"\"\n",
        "        # Separate text into characters\n",
        "        tokens = []\n",
        "        for word in text.split():\n",
        "            for s in word:\n",
        "                tokens += s\n",
        "            tokens.append('</w>')\n",
        "\n",
        "        # Apply the merges\n",
        "        for l, r in self.merges:\n",
        "            # Iterate from the back so we can safely remove middle elements\n",
        "            for i in reversed(range(len(tokens) - 1)):\n",
        "                if tokens[i] == l and tokens[i + 1] == r:\n",
        "                    tokens[i] += tokens[i + 1]\n",
        "                    tokens.pop(i + 1)\n",
        "        return tokens"
      ]
    },
    {
      "cell_type": "markdown",
      "metadata": {},
      "source": [
        "### Task 2.2. Analysis on Tweets Dataset (10 points)\n",
        "\n",
        "Train the BPE tokenizer on the tweets dataset. Try to tokenize the tweets with the tokenizer of different `vocab_size`. For example, train the BPE tokenizer with `vocab_size` of [base_vocab_size, 250, 500, 750, 1000]. Plot the dependency of the average length of the tokenized tweet by `vocab_size` to analyze how `vocab_size` affects the length of the tokenized tweet on average. Tell what `vocab_size` is preferrable and why."
      ]
    },
    {
      "cell_type": "code",
      "execution_count": 69,
      "metadata": {},
      "outputs": [],
      "source": [
        "def test_tokenizer(vocab_size: int, train_corpus: list[str], test_corpus: list[str]) -> list[list[str]]:\n",
        "    tokenizer = BPETokenizer(vocab_size)\n",
        "    tokenizer.train(train_corpus)\n",
        "    result = []\n",
        "    for text in test_corpus:\n",
        "        result.append(tokenizer.tokenize(text))\n",
        "    return result"
      ]
    },
    {
      "cell_type": "code",
      "execution_count": 70,
      "metadata": {},
      "outputs": [
        {
          "name": "stdout",
          "output_type": "stream",
          "text": [
            "225\n",
            "180 - 45\n"
          ]
        }
      ],
      "source": [
        "import os\n",
        "\n",
        "corpus = []\n",
        "for file in os.listdir('data'):\n",
        "    with open(f'data/{file}', 'r') as f:\n",
        "        data = f.read()\n",
        "        for line in data.split('\\n'):\n",
        "            corpus.append(line)\n",
        "print(len(corpus))\n",
        "\n",
        "train_size = len(corpus) * 4 // 5\n",
        "train_corpus = corpus[:train_size]\n",
        "test_corpus = corpus[train_size:]\n",
        "print(f'{len(train_corpus)} - {len(test_corpus)}')"
      ]
    },
    {
      "cell_type": "code",
      "execution_count": 75,
      "metadata": {},
      "outputs": [
        {
          "name": "stderr",
          "output_type": "stream",
          "text": [
            "  0%|          | 0/5 [00:00<?, ?it/s]"
          ]
        },
        {
          "name": "stderr",
          "output_type": "stream",
          "text": [
            "100%|██████████| 5/5 [00:11<00:00,  2.38s/it]\n"
          ]
        }
      ],
      "source": [
        "from tqdm import tqdm\n",
        "\n",
        "sizes = [166, 250, 500, 750, 1000]\n",
        "averages = []\n",
        "for vocab_size in tqdm(sizes):\n",
        "    tweets = test_tokenizer(vocab_size, train_corpus, test_corpus)\n",
        "    average = sum([len(s) for s in tweets]) / len(tweets)\n",
        "    averages.append(average)"
      ]
    },
    {
      "cell_type": "code",
      "execution_count": 85,
      "metadata": {},
      "outputs": [
        {
          "data": {
            "text/plain": [
              "Text(0, 0.5, 'Average tokenized tweet length')"
            ]
          },
          "execution_count": 85,
          "metadata": {},
          "output_type": "execute_result"
        },
        {
          "data": {
            "image/png": "[encoded data removed]",
            "text/plain": [
              "<Figure size 640x480 with 1 Axes>"
            ]
          },
          "metadata": {},
          "output_type": "display_data"
        }
      ],
      "source": [
        "import matplotlib.pyplot as plt\n",
        "import numpy as np\n",
        "\n",
        "plt.plot(sizes, averages)\n",
        "plt.xlabel(\"Vocabulary size\")\n",
        "plt.ylabel(\"Average tokenized tweet length\")"
      ]
    },
    {
      "cell_type": "markdown",
      "metadata": {},
      "source": [
        "Large vocabulary size reduces the average tweet length but it takes more time to train and tokenize. The optimal value would depend on the perfomance requirements."
      ]
    },
    {
      "cell_type": "markdown",
      "metadata": {},
      "source": [
        "### Task 2.3. Analysis on Dataset of Different Language (10 points)\n",
        "\n",
        "Find a small dataset of texts in a language other than English. The dataset size should be not greater than several megabytes.\n",
        "\n",
        "Train the BPE tokenizer on the dataset that you found. Try to tokenize the sentences from this dataset with the tokenizer of different `vocab_size`. Plot the dependency of the average length of the tokenized sentence by `vocab_size` to analyze how `vocab_size` affects the length of the tokenized sentence on average.\n",
        "\n",
        "Tell how how the average length of the tokenized sentence differs from the average length of the tokenized tweet. Explain why. "
      ]
    },
    {
      "cell_type": "code",
      "execution_count": 86,
      "metadata": {},
      "outputs": [
        {
          "name": "stdout",
          "output_type": "stream",
          "text": [
            "10713 - 2679\n"
          ]
        }
      ],
      "source": [
        "import pandas as pd\n",
        "\n",
        "train_corpus = pd.read_csv('rudata/rusentitweet_train.csv')\n",
        "train_corpus = train_corpus.text\n",
        "\n",
        "test_corpus = pd.read_csv('rudata/rusentitweet_test.csv')\n",
        "test_corpus = test_corpus.text\n",
        "\n",
        "print(f'{len(train_corpus)} - {len(test_corpus)}')"
      ]
    },
    {
      "cell_type": "code",
      "execution_count": 87,
      "metadata": {},
      "outputs": [
        {
          "name": "stderr",
          "output_type": "stream",
          "text": [
            "100%|██████████| 5/5 [01:42<00:00, 20.59s/it]\n"
          ]
        }
      ],
      "source": [
        "from tqdm import tqdm\n",
        "\n",
        "sizes = [166, 250, 500, 750, 1000]\n",
        "averages = []\n",
        "for vocab_size in tqdm(sizes):\n",
        "    tweets = test_tokenizer(vocab_size, train_corpus, test_corpus)\n",
        "    average = sum([len(s) for s in tweets]) / len(tweets)\n",
        "    averages.append(average)"
      ]
    },
    {
      "cell_type": "code",
      "execution_count": 88,
      "metadata": {},
      "outputs": [
        {
          "data": {
            "text/plain": [
              "Text(0, 0.5, 'Average tokenized tweet length')"
            ]
          },
          "execution_count": 88,
          "metadata": {},
          "output_type": "execute_result"
        },
        {
          "data": {
            "image/png": "[encoded data removed]",
            "text/plain": [
              "<Figure size 640x480 with 1 Axes>"
            ]
          },
          "metadata": {},
          "output_type": "display_data"
        }
      ],
      "source": [
        "import matplotlib.pyplot as plt\n",
        "import numpy as np\n",
        "\n",
        "plt.plot(sizes, averages)\n",
        "plt.xlabel(\"Vocabulary size\")\n",
        "plt.ylabel(\"Average tokenized tweet length\")"
      ]
    }
  ],
  "metadata": {
    "colab": {
      "provenance": [],
      "toc_visible": true
    },
    "kernelspec": {
      "display_name": "Python 3",
      "name": "python3"
    },
    "language_info": {
      "codemirror_mode": {
        "name": "ipython",
        "version": 3
      },
      "file_extension": ".py",
      "mimetype": "text/x-python",
      "name": "python",
      "nbconvert_exporter": "python",
      "pygments_lexer": "ipython3",
      "version": "3.10.12"
    }
  },
  "nbformat": 4,
  "nbformat_minor": 0
}
